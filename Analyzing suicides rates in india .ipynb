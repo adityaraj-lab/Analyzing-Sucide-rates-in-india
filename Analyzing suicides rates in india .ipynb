{
 "cells": [
  {
   "cell_type": "markdown",
   "metadata": {},
   "source": [
    "# Context\n",
    "This data set contains yearly suicide detail of all the states/u.t of India by various parameters from 2001 to 2012.\n",
    "\n",
    "Content:\n",
    "\n",
    "Time Period: 2001 - 2012\n",
    "\n",
    "Granularity: Yearly\n",
    "\n",
    "Location: States and U.T's of India\n",
    "\n",
    "Parameters:\n",
    "\n",
    "a) Suicide causes\n",
    "\n",
    "b) Education status\n",
    "\n",
    "c) By means adopted\n",
    "\n",
    "d) Professional profile\n",
    "\n",
    "e) Social status"
   ]
  },
  {
   "cell_type": "code",
   "execution_count": 1,
   "metadata": {},
   "outputs": [],
   "source": [
    "#importing necessary library for work\n",
    "import numpy as np\n",
    "import matplotlib.pyplot as plt\n",
    "import seaborn as sns\n",
    "import pandas as pd\n",
    "import warnings\n",
    "warnings.filterwarnings('ignore')\n"
   ]
  },
  {
   "cell_type": "code",
   "execution_count": 2,
   "metadata": {},
   "outputs": [
    {
     "data": {
      "text/html": [
       "<div>\n",
       "<style scoped>\n",
       "    .dataframe tbody tr th:only-of-type {\n",
       "        vertical-align: middle;\n",
       "    }\n",
       "\n",
       "    .dataframe tbody tr th {\n",
       "        vertical-align: top;\n",
       "    }\n",
       "\n",
       "    .dataframe thead th {\n",
       "        text-align: right;\n",
       "    }\n",
       "</style>\n",
       "<table border=\"1\" class=\"dataframe\">\n",
       "  <thead>\n",
       "    <tr style=\"text-align: right;\">\n",
       "      <th></th>\n",
       "      <th>State</th>\n",
       "      <th>Year</th>\n",
       "      <th>Type_code</th>\n",
       "      <th>Type</th>\n",
       "      <th>Gender</th>\n",
       "      <th>Age_group</th>\n",
       "      <th>Total</th>\n",
       "    </tr>\n",
       "  </thead>\n",
       "  <tbody>\n",
       "    <tr>\n",
       "      <th>0</th>\n",
       "      <td>A &amp; N Islands</td>\n",
       "      <td>2001</td>\n",
       "      <td>Causes</td>\n",
       "      <td>Illness (Aids/STD)</td>\n",
       "      <td>Female</td>\n",
       "      <td>0-14</td>\n",
       "      <td>0</td>\n",
       "    </tr>\n",
       "    <tr>\n",
       "      <th>1</th>\n",
       "      <td>A &amp; N Islands</td>\n",
       "      <td>2001</td>\n",
       "      <td>Causes</td>\n",
       "      <td>Bankruptcy or Sudden change in Economic</td>\n",
       "      <td>Female</td>\n",
       "      <td>0-14</td>\n",
       "      <td>0</td>\n",
       "    </tr>\n",
       "    <tr>\n",
       "      <th>2</th>\n",
       "      <td>A &amp; N Islands</td>\n",
       "      <td>2001</td>\n",
       "      <td>Causes</td>\n",
       "      <td>Cancellation/Non-Settlement of Marriage</td>\n",
       "      <td>Female</td>\n",
       "      <td>0-14</td>\n",
       "      <td>0</td>\n",
       "    </tr>\n",
       "    <tr>\n",
       "      <th>3</th>\n",
       "      <td>A &amp; N Islands</td>\n",
       "      <td>2001</td>\n",
       "      <td>Causes</td>\n",
       "      <td>Physical Abuse (Rape/Incest Etc.)</td>\n",
       "      <td>Female</td>\n",
       "      <td>0-14</td>\n",
       "      <td>0</td>\n",
       "    </tr>\n",
       "    <tr>\n",
       "      <th>4</th>\n",
       "      <td>A &amp; N Islands</td>\n",
       "      <td>2001</td>\n",
       "      <td>Causes</td>\n",
       "      <td>Dowry Dispute</td>\n",
       "      <td>Female</td>\n",
       "      <td>0-14</td>\n",
       "      <td>0</td>\n",
       "    </tr>\n",
       "  </tbody>\n",
       "</table>\n",
       "</div>"
      ],
      "text/plain": [
       "           State  Year Type_code                                     Type  \\\n",
       "0  A & N Islands  2001    Causes                       Illness (Aids/STD)   \n",
       "1  A & N Islands  2001    Causes  Bankruptcy or Sudden change in Economic   \n",
       "2  A & N Islands  2001    Causes  Cancellation/Non-Settlement of Marriage   \n",
       "3  A & N Islands  2001    Causes        Physical Abuse (Rape/Incest Etc.)   \n",
       "4  A & N Islands  2001    Causes                            Dowry Dispute   \n",
       "\n",
       "   Gender Age_group  Total  \n",
       "0  Female      0-14      0  \n",
       "1  Female      0-14      0  \n",
       "2  Female      0-14      0  \n",
       "3  Female      0-14      0  \n",
       "4  Female      0-14      0  "
      ]
     },
     "execution_count": 2,
     "metadata": {},
     "output_type": "execute_result"
    }
   ],
   "source": [
    "df=pd.read_csv('Suicides in India 2001-2012.csv')\n",
    "df.head()\n"
   ]
  },
  {
   "cell_type": "code",
   "execution_count": 3,
   "metadata": {},
   "outputs": [
    {
     "data": {
      "text/plain": [
       "(237519, 7)"
      ]
     },
     "execution_count": 3,
     "metadata": {},
     "output_type": "execute_result"
    }
   ],
   "source": [
    "# in the given dataset we have 237519 rows nd 7 columns\n",
    "df.shape"
   ]
  },
  {
   "cell_type": "code",
   "execution_count": 4,
   "metadata": {},
   "outputs": [
    {
     "name": "stdout",
     "output_type": "stream",
     "text": [
      "<class 'pandas.core.frame.DataFrame'>\n",
      "RangeIndex: 237519 entries, 0 to 237518\n",
      "Data columns (total 7 columns):\n",
      " #   Column     Non-Null Count   Dtype \n",
      "---  ------     --------------   ----- \n",
      " 0   State      237519 non-null  object\n",
      " 1   Year       237519 non-null  int64 \n",
      " 2   Type_code  237519 non-null  object\n",
      " 3   Type       237519 non-null  object\n",
      " 4   Gender     237519 non-null  object\n",
      " 5   Age_group  237519 non-null  object\n",
      " 6   Total      237519 non-null  int64 \n",
      "dtypes: int64(2), object(5)\n",
      "memory usage: 12.7+ MB\n"
     ]
    }
   ],
   "source": [
    "df.info()"
   ]
  },
  {
   "cell_type": "code",
   "execution_count": 5,
   "metadata": {},
   "outputs": [
    {
     "data": {
      "text/plain": [
       "State        0\n",
       "Year         0\n",
       "Type_code    0\n",
       "Type         0\n",
       "Gender       0\n",
       "Age_group    0\n",
       "Total        0\n",
       "dtype: int64"
      ]
     },
     "execution_count": 5,
     "metadata": {},
     "output_type": "execute_result"
    }
   ],
   "source": [
    "#now i m going to check is there any missing value in our dataset\n",
    "df.isnull().sum()\n"
   ]
  },
  {
   "cell_type": "markdown",
   "metadata": {},
   "source": [
    "now we can clearly see that there is no missing values in our dtaset \n",
    "so we don't require data cleaning for this dataset"
   ]
  },
  {
   "cell_type": "code",
   "execution_count": 6,
   "metadata": {},
   "outputs": [
    {
     "data": {
      "text/plain": [
       "13071734"
      ]
     },
     "execution_count": 6,
     "metadata": {},
     "output_type": "execute_result"
    }
   ],
   "source": [
    "# now i am going to check total sucide in india\n",
    "df.Total.sum()"
   ]
  },
  {
   "cell_type": "markdown",
   "metadata": {},
   "source": [
    "# check Total Suicides in India State wise"
   ]
  },
  {
   "cell_type": "code",
   "execution_count": 7,
   "metadata": {},
   "outputs": [
    {
     "data": {
      "text/plain": [
       "array(['A & N Islands', 'Andhra Pradesh', 'Arunachal Pradesh', 'Assam',\n",
       "       'Bihar', 'Chandigarh', 'Chhattisgarh', 'D & N Haveli',\n",
       "       'Daman & Diu', 'Delhi (Ut)', 'Goa', 'Gujarat', 'Haryana',\n",
       "       'Himachal Pradesh', 'Jammu & Kashmir', 'Jharkhand', 'Karnataka',\n",
       "       'Kerala', 'Lakshadweep', 'Madhya Pradesh', 'Maharashtra',\n",
       "       'Manipur', 'Meghalaya', 'Mizoram', 'Nagaland', 'Odisha',\n",
       "       'Puducherry', 'Punjab', 'Rajasthan', 'Sikkim', 'Tamil Nadu',\n",
       "       'Total (All India)', 'Total (States)', 'Total (Uts)', 'Tripura',\n",
       "       'Uttar Pradesh', 'Uttarakhand', 'West Bengal'], dtype=object)"
      ]
     },
     "execution_count": 7,
     "metadata": {},
     "output_type": "execute_result"
    }
   ],
   "source": [
    "df['State'].unique()"
   ]
  },
  {
   "cell_type": "code",
   "execution_count": 8,
   "metadata": {},
   "outputs": [
    {
     "data": {
      "text/plain": [
       "Madhya Pradesh       6792\n",
       "Maharashtra          6792\n",
       "Karnataka            6792\n",
       "Odisha               6791\n",
       "Andhra Pradesh       6791\n",
       "Rajasthan            6791\n",
       "Chhattisgarh         6790\n",
       "Bihar                6790\n",
       "Haryana              6790\n",
       "Kerala               6788\n",
       "Uttar Pradesh        6787\n",
       "Gujarat              6786\n",
       "Assam                6786\n",
       "Tamil Nadu           6786\n",
       "Jharkhand            6785\n",
       "Delhi (Ut)           6782\n",
       "Tripura              6782\n",
       "West Bengal          6780\n",
       "Punjab               6779\n",
       "Himachal Pradesh     6774\n",
       "Jammu & Kashmir      6761\n",
       "Goa                  6759\n",
       "Uttarakhand          6758\n",
       "Sikkim               6742\n",
       "Mizoram              6737\n",
       "Meghalaya            6733\n",
       "Puducherry           6730\n",
       "Chandigarh           6717\n",
       "A & N Islands        6712\n",
       "Daman & Diu          6710\n",
       "Arunachal Pradesh    6707\n",
       "Nagaland             6705\n",
       "D & N Haveli         6704\n",
       "Manipur              6700\n",
       "Lakshadweep          6674\n",
       "Total (All India)     312\n",
       "Total (Uts)           312\n",
       "Total (States)        312\n",
       "Name: State, dtype: int64"
      ]
     },
     "execution_count": 8,
     "metadata": {},
     "output_type": "execute_result"
    }
   ],
   "source": [
    "df['State'].value_counts()"
   ]
  },
  {
   "cell_type": "markdown",
   "metadata": {},
   "source": [
    "in sates columns we need some data some cleaning  "
   ]
  },
  {
   "cell_type": "code",
   "execution_count": 9,
   "metadata": {},
   "outputs": [],
   "source": [
    "index_all_india = df[df[\"State\"] == 'Total (All India)' ].index\n",
    "index_all_india \n",
    "df.drop(index_all_india,inplace=True)\n",
    "\n",
    "\n",
    "\n"
   ]
  },
  {
   "cell_type": "code",
   "execution_count": 10,
   "metadata": {},
   "outputs": [],
   "source": [
    "index_all_states = df[df[\"State\"] == 'Total (States)' ].index\n",
    "df.drop(index_all_states,inplace=True)\n",
    "index_total_uts=df[df['State']=='Total (Uts)'].index\n",
    "df.drop(index_total_uts,inplace=True)"
   ]
  },
  {
   "cell_type": "code",
   "execution_count": 11,
   "metadata": {},
   "outputs": [
    {
     "data": {
      "text/plain": [
       "State\n",
       "Maharashtra          901945\n",
       "West Bengal          849936\n",
       "Tamil Nadu           818691\n",
       "Andhra Pradesh       814059\n",
       "Karnataka            734825\n",
       "Kerala               538946\n",
       "Madhya Pradesh       451535\n",
       "Gujarat              330858\n",
       "Chhattisgarh         302354\n",
       "Odisha               267234\n",
       "Rajasthan            255134\n",
       "Uttar Pradesh        233352\n",
       "Assam                172276\n",
       "Haryana              147176\n",
       "Delhi (Ut)            84272\n",
       "Jharkhand             49720\n",
       "Punjab                46350\n",
       "Bihar                 46214\n",
       "Tripura               45965\n",
       "Puducherry            32144\n",
       "Himachal Pradesh      26562\n",
       "Uttarakhand           18496\n",
       "Goa                   17363\n",
       "Jammu & Kashmir       14821\n",
       "Sikkim                 9606\n",
       "A & N Islands          8109\n",
       "Arunachal Pradesh      6633\n",
       "Meghalaya              5415\n",
       "Chandigarh             5164\n",
       "Mizoram                4154\n",
       "D & N Haveli           3430\n",
       "Manipur                2102\n",
       "Nagaland               1728\n",
       "Daman & Diu            1391\n",
       "Lakshadweep              50\n",
       "Name: Total, dtype: int64"
      ]
     },
     "execution_count": 11,
     "metadata": {},
     "output_type": "execute_result"
    }
   ],
   "source": [
    "#now agian check state wise sucide in india\n",
    "state_df = df.groupby(['State'])\n",
    "result = state_df['Total'].sum().sort_values(ascending=False)\n",
    "result"
   ]
  },
  {
   "cell_type": "code",
   "execution_count": null,
   "metadata": {},
   "outputs": [],
   "source": []
  },
  {
   "cell_type": "code",
   "execution_count": 12,
   "metadata": {
    "scrolled": true
   },
   "outputs": [
    {
     "data": {
      "text/plain": [
       "<AxesSubplot:ylabel='State'>"
      ]
     },
     "execution_count": 12,
     "metadata": {},
     "output_type": "execute_result"
    },
    {
     "data": {
      "image/png": "[encoded data removed]",
      "text/plain": [
       "<Figure size 864x720 with 1 Axes>"
      ]
     },
     "metadata": {},
     "output_type": "display_data"
    }
   ],
   "source": [
    "plt.style.use('ggplot')\n",
    "fig, ax = plt.subplots(1,1, figsize = (12,10))\n",
    "sns.barplot(result.values,result.index)"
   ]
  },
  {
   "cell_type": "markdown",
   "metadata": {},
   "source": [
    "after ploating the graph we can clearly say that sucide cases are very high in  maharashtra nd very low in Lakshadweep  "
   ]
  },
  {
   "cell_type": "markdown",
   "metadata": {},
   "source": [
    "# now i am going to analyze does gender matters in sucide"
   ]
  },
  {
   "cell_type": "code",
   "execution_count": 13,
   "metadata": {},
   "outputs": [
    {
     "data": {
      "text/plain": [
       "<AxesSubplot:xlabel='Gender'>"
      ]
     },
     "execution_count": 13,
     "metadata": {},
     "output_type": "execute_result"
    },
    {
     "data": {
      "image/png": "[encoded data removed]",
      "text/plain": [
       "<Figure size 432x288 with 1 Axes>"
      ]
     },
     "metadata": {},
     "output_type": "display_data"
    }
   ],
   "source": [
    "g_df=df.groupby(['Gender'])\n",
    "result_df1=g_df['Total'].sum().sort_values()\n",
    "result_df1\n",
    "sns.barplot(result_df1.index,result_df1.values)"
   ]
  },
  {
   "cell_type": "code",
   "execution_count": 14,
   "metadata": {},
   "outputs": [
    {
     "data": {
      "text/plain": [
       "Gender\n",
       "Female    2606922\n",
       "Male      4641088\n",
       "Name: Total, dtype: int64"
      ]
     },
     "execution_count": 14,
     "metadata": {},
     "output_type": "execute_result"
    }
   ],
   "source": [
    "result_df1"
   ]
  },
  {
   "cell_type": "markdown",
   "metadata": {},
   "source": [
    "by this graph we can say male do more sucide as compare to woman"
   ]
  },
  {
   "cell_type": "code",
   "execution_count": 15,
   "metadata": {},
   "outputs": [
    {
     "data": {
      "text/plain": [
       "Year\n",
       "2001    542440\n",
       "2002    551980\n",
       "2003    554218\n",
       "2004    568349\n",
       "2005    569545\n",
       "2006    590543\n",
       "2007    613119\n",
       "2008    625014\n",
       "2009    635429\n",
       "2012    647288\n",
       "2010    672926\n",
       "2011    677159\n",
       "Name: Total, dtype: int64"
      ]
     },
     "execution_count": 15,
     "metadata": {},
     "output_type": "execute_result"
    }
   ],
   "source": [
    "year_df=df.groupby(['Year'])['Total'].sum().sort_values()\n",
    "year_df"
   ]
  },
  {
   "cell_type": "code",
   "execution_count": 16,
   "metadata": {},
   "outputs": [
    {
     "data": {
      "text/plain": [
       "<AxesSubplot:xlabel='Year'>"
      ]
     },
     "execution_count": 16,
     "metadata": {},
     "output_type": "execute_result"
    },
    {
     "data": {
      "image/png": "[encoded data removed]",
      "text/plain": [
       "<Figure size 720x360 with 1 Axes>"
      ]
     },
     "metadata": {},
     "output_type": "display_data"
    }
   ],
   "source": [
    "fig,ax=plt.subplots(1,1,figsize=(10,5))\n",
    "sns.lineplot(year_df.index,year_df.values)"
   ]
  },
  {
   "cell_type": "markdown",
   "metadata": {},
   "source": [
    "by this graph we can clearly say that sucide cases has been increased in between 2001 to 2011 \n",
    "in 2011 it was on its peack but after 2011 graph is decreasing"
   ]
  },
  {
   "cell_type": "code",
   "execution_count": 17,
   "metadata": {},
   "outputs": [],
   "source": [
    "df\n",
    "#now i am going to see which age group people is doing more sucide\n",
    "df['Age_group'].unique()\n",
    "df_age=df[df['Age_group']=='0-100+'].index\n",
    "df.drop(df_age,inplace=True)\n"
   ]
  },
  {
   "cell_type": "code",
   "execution_count": 18,
   "metadata": {},
   "outputs": [
    {
     "data": {
      "text/plain": [
       "Age_group\n",
       "15-29    1534037\n",
       "30-44    1471599\n",
       "45-59     885177\n",
       "60+       346925\n",
       "0-14       98410\n",
       "Name: Total, dtype: int64"
      ]
     },
     "execution_count": 18,
     "metadata": {},
     "output_type": "execute_result"
    }
   ],
   "source": [
    "df_age1=df.groupby(['Age_group'])\n",
    "result_age=df_age1['Total'].sum().sort_values(ascending=False)\n",
    "result_age"
   ]
  },
  {
   "cell_type": "code",
   "execution_count": 19,
   "metadata": {},
   "outputs": [
    {
     "data": {
      "text/plain": [
       "pandas.core.series.Series"
      ]
     },
     "execution_count": 19,
     "metadata": {},
     "output_type": "execute_result"
    }
   ],
   "source": [
    "df_new=df.groupby(['Age_group','Gender'])['Total'].sum().sort_values(ascending=False)\n",
    "type(df_new)\n"
   ]
  },
  {
   "cell_type": "code",
   "execution_count": 20,
   "metadata": {},
   "outputs": [
    {
     "data": {
      "text/plain": [
       "<AxesSubplot:xlabel='Age_group', ylabel='Total'>"
      ]
     },
     "execution_count": 20,
     "metadata": {},
     "output_type": "execute_result"
    },
    {
     "data": {
      "image/png": "[encoded data removed]",
      "text/plain": [
       "<Figure size 432x288 with 1 Axes>"
      ]
     },
     "metadata": {},
     "output_type": "display_data"
    }
   ],
   "source": [
    "sns.barplot(x='Age_group',y='Total',hue='Gender',data=df)"
   ]
  },
  {
   "cell_type": "code",
   "execution_count": null,
   "metadata": {},
   "outputs": [],
   "source": []
  },
  {
   "cell_type": "code",
   "execution_count": 21,
   "metadata": {},
   "outputs": [
    {
     "data": {
      "text/plain": [
       "<AxesSubplot:xlabel='Age_group'>"
      ]
     },
     "execution_count": 21,
     "metadata": {},
     "output_type": "execute_result"
    },
    {
     "data": {
      "image/png": "[encoded data removed]",
      "text/plain": [
       "<Figure size 432x288 with 1 Axes>"
      ]
     },
     "metadata": {},
     "output_type": "display_data"
    }
   ],
   "source": [
    "sns.barplot(result_age.index,result_age.values)"
   ]
  },
  {
   "cell_type": "markdown",
   "metadata": {},
   "source": [
    "15 to 29 age_group people do more sucide as compare to other age_group people"
   ]
  },
  {
   "cell_type": "code",
   "execution_count": 22,
   "metadata": {},
   "outputs": [
    {
     "data": {
      "text/html": [
       "<div>\n",
       "<style scoped>\n",
       "    .dataframe tbody tr th:only-of-type {\n",
       "        vertical-align: middle;\n",
       "    }\n",
       "\n",
       "    .dataframe tbody tr th {\n",
       "        vertical-align: top;\n",
       "    }\n",
       "\n",
       "    .dataframe thead th {\n",
       "        text-align: right;\n",
       "    }\n",
       "</style>\n",
       "<table border=\"1\" class=\"dataframe\">\n",
       "  <thead>\n",
       "    <tr style=\"text-align: right;\">\n",
       "      <th></th>\n",
       "      <th>State</th>\n",
       "      <th>Year</th>\n",
       "      <th>Type_code</th>\n",
       "      <th>Type</th>\n",
       "      <th>Gender</th>\n",
       "      <th>Age_group</th>\n",
       "      <th>Total</th>\n",
       "    </tr>\n",
       "  </thead>\n",
       "  <tbody>\n",
       "    <tr>\n",
       "      <th>0</th>\n",
       "      <td>A &amp; N Islands</td>\n",
       "      <td>2001</td>\n",
       "      <td>Causes</td>\n",
       "      <td>Illness (Aids/STD)</td>\n",
       "      <td>Female</td>\n",
       "      <td>0-14</td>\n",
       "      <td>0</td>\n",
       "    </tr>\n",
       "    <tr>\n",
       "      <th>1</th>\n",
       "      <td>A &amp; N Islands</td>\n",
       "      <td>2001</td>\n",
       "      <td>Causes</td>\n",
       "      <td>Bankruptcy or Sudden change in Economic</td>\n",
       "      <td>Female</td>\n",
       "      <td>0-14</td>\n",
       "      <td>0</td>\n",
       "    </tr>\n",
       "    <tr>\n",
       "      <th>2</th>\n",
       "      <td>A &amp; N Islands</td>\n",
       "      <td>2001</td>\n",
       "      <td>Causes</td>\n",
       "      <td>Cancellation/Non-Settlement of Marriage</td>\n",
       "      <td>Female</td>\n",
       "      <td>0-14</td>\n",
       "      <td>0</td>\n",
       "    </tr>\n",
       "    <tr>\n",
       "      <th>3</th>\n",
       "      <td>A &amp; N Islands</td>\n",
       "      <td>2001</td>\n",
       "      <td>Causes</td>\n",
       "      <td>Physical Abuse (Rape/Incest Etc.)</td>\n",
       "      <td>Female</td>\n",
       "      <td>0-14</td>\n",
       "      <td>0</td>\n",
       "    </tr>\n",
       "    <tr>\n",
       "      <th>4</th>\n",
       "      <td>A &amp; N Islands</td>\n",
       "      <td>2001</td>\n",
       "      <td>Causes</td>\n",
       "      <td>Dowry Dispute</td>\n",
       "      <td>Female</td>\n",
       "      <td>0-14</td>\n",
       "      <td>0</td>\n",
       "    </tr>\n",
       "  </tbody>\n",
       "</table>\n",
       "</div>"
      ],
      "text/plain": [
       "           State  Year Type_code                                     Type  \\\n",
       "0  A & N Islands  2001    Causes                       Illness (Aids/STD)   \n",
       "1  A & N Islands  2001    Causes  Bankruptcy or Sudden change in Economic   \n",
       "2  A & N Islands  2001    Causes  Cancellation/Non-Settlement of Marriage   \n",
       "3  A & N Islands  2001    Causes        Physical Abuse (Rape/Incest Etc.)   \n",
       "4  A & N Islands  2001    Causes                            Dowry Dispute   \n",
       "\n",
       "   Gender Age_group  Total  \n",
       "0  Female      0-14      0  \n",
       "1  Female      0-14      0  \n",
       "2  Female      0-14      0  \n",
       "3  Female      0-14      0  \n",
       "4  Female      0-14      0  "
      ]
     },
     "execution_count": 22,
     "metadata": {},
     "output_type": "execute_result"
    }
   ],
   "source": [
    "df.head()"
   ]
  },
  {
   "cell_type": "code",
   "execution_count": 23,
   "metadata": {},
   "outputs": [
    {
     "data": {
      "text/plain": [
       "Type\n",
       "Others (Please Specify)                           469147\n",
       "By Hanging                                        460955\n",
       "Family Problems                                   341952\n",
       "House Wife                                        285243\n",
       "By Consuming Insecticides                         275501\n",
       "Causes Not known                                  237069\n",
       "By Consuming Other Poison                         231178\n",
       "Other Causes (Please Specity)                     216050\n",
       "Farming/Agriculture Activity                      197923\n",
       "Other Prolonged Illness                           194565\n",
       "By Other means (please specify)                   135132\n",
       "By Fire/Self Immolation                           128006\n",
       "Service (Private)                                 115472\n",
       "Unemployed                                        114374\n",
       "By Drowning                                        96711\n",
       "Insanity/Mental Illness                            94229\n",
       "Self-employed (Business activity)                  78112\n",
       "Student                                            74323\n",
       "By coming under running vehicles/trains            45299\n",
       "Love Affairs                                       45039\n",
       "Professional Activity                              39204\n",
       "Bankruptcy or Sudden change in Economic            32755\n",
       "Poverty                                            32684\n",
       "Dowry Dispute                                      31970\n",
       "Public Sector Undertaking                          30786\n",
       "Drug Abuse/Addiction                               30046\n",
       "Unemployment                                       27365\n",
       "Failure in Examination                             27005\n",
       "Service (Government)                               23325\n",
       "Property Dispute                                   18652\n",
       "By Over Alcoholism                                 15973\n",
       "Suspected/Illicit Relation                         14911\n",
       "Fall in Social Reputation                          13464\n",
       "Professional/Career Problem                        12554\n",
       "Retired Person                                     11334\n",
       "Cancellation/Non-Settlement of Marriage            11296\n",
       "By touching electric wires                         10816\n",
       "Death of Dear Person                               10321\n",
       "By Overdose of sleeping pills                       9960\n",
       "By Other means                                      9238\n",
       "Cancer                                              9058\n",
       "Illness (Aids/STD)                                  8723\n",
       "By Jumping from (Other sites)                       8127\n",
       "By Jumping off Moving Vehicles/Trains               8116\n",
       "By Jumping from (Building)                          7871\n",
       "Not having Children(Barrenness/Impotency            7822\n",
       "Paralysis                                           7286\n",
       "By Fire-Arms                                        6294\n",
       "By Self Infliction of injury                        5093\n",
       "Divorce                                             4133\n",
       "Physical Abuse (Rape/Incest Etc.)                   3992\n",
       "Bankruptcy or Sudden change in Economic Status      2655\n",
       "Illegitimate Pregnancy                              2494\n",
       "Ideological Causes/Hero Worshipping                 2118\n",
       "By Machine                                          1661\n",
       "Not having Children (Barrenness/Impotency            766\n",
       "Name: Total, dtype: int64"
      ]
     },
     "execution_count": 23,
     "metadata": {},
     "output_type": "execute_result"
    }
   ],
   "source": [
    "new_df=df.groupby(['Type'])['Total'].sum().sort_values(ascending=False)\n",
    "new_df"
   ]
  },
  {
   "cell_type": "code",
   "execution_count": 24,
   "metadata": {},
   "outputs": [
    {
     "data": {
      "text/plain": [
       "Type                           Gender  State         \n",
       "By Hanging                     Male    Maharashtra       47260\n",
       "Others (Please Specify)        Male    Andhra Pradesh    45165\n",
       "                                       Tamil Nadu        43574\n",
       "                                       Karnataka         42208\n",
       "House Wife                     Female  Maharashtra       42059\n",
       "By Hanging                     Male    Kerala            41143\n",
       "Farming/Agriculture Activity   Male    Maharashtra       40785\n",
       "By Consuming Insecticides      Male    Maharashtra       39813\n",
       "Family Problems                Male    Maharashtra       39208\n",
       "Others (Please Specify)        Male    Kerala            38507\n",
       "By Consuming Insecticides      Male    Andhra Pradesh    37619\n",
       "House Wife                     Female  West Bengal       36253\n",
       "Others (Please Specify)        Male    West Bengal       34951\n",
       "By Hanging                     Male    West Bengal       32784\n",
       "                                       Karnataka         30077\n",
       "Family Problems                Male    Tamil Nadu        29761\n",
       "Others (Please Specify)        Male    Maharashtra       29260\n",
       "House Wife                     Female  Tamil Nadu        28165\n",
       "                                       Andhra Pradesh    27634\n",
       "                                       Madhya Pradesh    26724\n",
       "Family Problems                Male    Kerala            26558\n",
       "                               Female  Maharashtra       26133\n",
       "By Hanging                     Female  West Bengal       25884\n",
       "By Consuming Other Poison      Male    Karnataka         25321\n",
       "By Hanging                     Male    Tamil Nadu        25096\n",
       "Causes Not known               Male    Karnataka         23833\n",
       "By Consuming Other Poison      Male    Tamil Nadu        23627\n",
       "Causes Not known               Male    West Bengal       23278\n",
       "Other Prolonged Illness        Male    Maharashtra       23031\n",
       "By Hanging                     Male    Andhra Pradesh    22847\n",
       "House Wife                     Female  Karnataka         22460\n",
       "By Consuming Other Poison      Male    West Bengal       22316\n",
       "Farming/Agriculture Activity   Male    Andhra Pradesh    21960\n",
       "                                       Karnataka         21770\n",
       "Other Prolonged Illness        Male    Andhra Pradesh    20795\n",
       "Family Problems                Male    West Bengal       20424\n",
       "Other Causes (Please Specity)  Male    Karnataka         20336\n",
       "Family Problems                Male    Andhra Pradesh    20083\n",
       "Other Prolonged Illness        Male    Karnataka         20034\n",
       "Family Problems                Female  Tamil Nadu        19902\n",
       "By Hanging                     Male    Madhya Pradesh    19887\n",
       "Other Prolonged Illness        Male    Tamil Nadu        19834\n",
       "Other Causes (Please Specity)  Male    Andhra Pradesh    18637\n",
       "                                       Tamil Nadu        18622\n",
       "By Consuming Other Poison      Female  West Bengal       18534\n",
       "House Wife                     Female  Gujarat           18513\n",
       "Service (Private)              Male    Maharashtra       18187\n",
       "Others (Please Specify)        Female  West Bengal       18029\n",
       "By Hanging                     Male    Chhattisgarh      17964\n",
       "Others (Please Specify)        Male    Rajasthan         17691\n",
       "Name: Total, dtype: int64"
      ]
     },
     "execution_count": 24,
     "metadata": {},
     "output_type": "execute_result"
    }
   ],
   "source": [
    "new_df1=df.groupby(['Type','Gender','State'])['Total'].sum().sort_values(ascending=False).head(50)\n",
    "new_df1"
   ]
  },
  {
   "cell_type": "markdown",
   "metadata": {},
   "source": [
    "# conclusion"
   ]
  },
  {
   "cell_type": "markdown",
   "metadata": {},
   "source": [
    "1.Maharashtra is top in sucide cases nd Lakshdweep is least in sucide cases\n",
    "\n",
    "2.boys do more sucide as compare to girls\n",
    "\n",
    "3.15 to 29 age_groups people r doing more sucide\n",
    "\n",
    "4.in age group 30 to 44 males are doing more sucide\n",
    "\n",
    "5.after anylizing the data i found most common reason behind sucide is family problem\n",
    "\n",
    "6.most of the people choose hanging for sucide\n",
    "  "
   ]
  }
 ],
 "metadata": {
  "kernelspec": {
   "display_name": "Python 3",
   "language": "python",
   "name": "python3"
  },
  "language_info": {
   "codemirror_mode": {
    "name": "ipython",
    "version": 3
   },
   "file_extension": ".py",
   "mimetype": "text/x-python",
   "name": "python",
   "nbconvert_exporter": "python",
   "pygments_lexer": "ipython3",
   "version": "3.8.5"
  }
 },
 "nbformat": 4,
 "nbformat_minor": 4
}
